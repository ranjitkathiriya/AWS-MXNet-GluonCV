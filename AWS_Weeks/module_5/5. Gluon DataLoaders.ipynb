{
 "cells": [
  {
   "cell_type": "code",
   "execution_count": 1,
   "metadata": {},
   "outputs": [],
   "source": [
    "import mxnet as mx\n",
    "import numpy as np\n",
    "\n",
    "from mxnet import gluon,nd\n",
    "from matplotlib.pyplot import imshow\n",
    "\n",
    "%matplotlib inline"
   ]
  },
  {
   "cell_type": "markdown",
   "metadata": {},
   "source": [
    "# Dataset"
   ]
  },
  {
   "cell_type": "code",
   "execution_count": 2,
   "metadata": {},
   "outputs": [],
   "source": [
    "mx.random.seed(41)\n",
    "x = mx.random.uniform(shape=(10,3))\n",
    "y = mx.random.uniform(shape=(10,1))\n",
    "\n",
    "dataset = gluon.data.dataset.ArrayDataset(x,y)"
   ]
  },
  {
   "cell_type": "markdown",
   "metadata": {},
   "source": [
    "# Dataloader"
   ]
  },
  {
   "cell_type": "code",
   "execution_count": 3,
   "metadata": {},
   "outputs": [
    {
     "name": "stdout",
     "output_type": "stream",
     "text": [
      "X_batch has shape (5, 3) and y_batch has a shape (5, 1)\n",
      "X_batch has shape (5, 3) and y_batch has a shape (5, 1)\n"
     ]
    }
   ],
   "source": [
    "dataloader = gluon.data.DataLoader(dataset,batch_size=5,last_batch='keep')\n",
    "\n",
    "for X_batch,y_batch in dataloader:\n",
    "    print(\"X_batch has shape {} and y_batch has a shape {}\".for# mat(X_batch.shape,y_batch.shape))"
   ]
  },
  {
   "cell_type": "markdown",
   "metadata": {},
   "source": [
    "# Parallel Data Loader"
   ]
  },
  {
   "cell_type": "code",
   "execution_count": 4,
   "metadata": {},
   "outputs": [
    {
     "name": "stdout",
     "output_type": "stream",
     "text": [
      "X_batch has shape (5, 3) and y_batch has a shape (5, 1)\n",
      "X_batch has shape (5, 3) and y_batch has a shape (5, 1)\n"
     ]
    }
   ],
   "source": [
    "from multiprocessing import cpu_count\n",
    "\n",
    "CPU_COUNT = cpu_count()\n",
    "\n",
    "data_loader = gluon.data.DataLoader(dataset,batch_size=5,num_workers=CPU_COUNT)\n",
    "\n",
    "for X_batch,y_batch in data_loader:\n",
    "    print(\"X_batch has shape {} and y_batch has a shape {}\".format(X_batch.shape,y_batch.shape))"
   ]
  },
  {
   "cell_type": "markdown",
   "metadata": {},
   "source": [
    "# Lazy Transformation"
   ]
  },
  {
   "cell_type": "code",
   "execution_count": 5,
   "metadata": {},
   "outputs": [],
   "source": [
    "from mxnet.gluon.data.vision import transforms\n",
    "\n",
    "train_dataset = gluon.data.vision.datasets.MNIST(train=True)\n",
    "transform = transforms.Compose([transforms.RandomFlipTopBottom(),transforms.RandomFlipLeftRight()])"
   ]
  },
  {
   "cell_type": "code",
   "execution_count": 6,
   "metadata": {},
   "outputs": [],
   "source": [
    "train_dataloader = gluon.data.DataLoader(train_dataset.transform_first(transform),batch_size=5, shuffle=True)"
   ]
  },
  {
   "cell_type": "code",
   "execution_count": 9,
   "metadata": {},
   "outputs": [
    {
     "data": {
      "image/png": "[encoded data removed]",
      "text/plain": [
       "<Figure size 432x288 with 1 Axes>"
      ]
     },
     "metadata": {
      "needs_background": "light"
     },
     "output_type": "display_data"
    }
   ],
   "source": [
    "for X_batch,y_batch in train_dataloader:\n",
    "    imshow(X_batch[2,:,:,0].asnumpy(),cmap='gray')\n",
    "    break\n",
    "    #print(\"X_batch has shape {} and y_batch has a shape {}\".format(X_batch.shape,y_batch.shape))"
   ]
  },
  {
   "cell_type": "markdown",
   "metadata": {},
   "source": [
    "# Exit"
   ]
  }
 ],
 "metadata": {
  "kernelspec": {
   "display_name": "Python 3",
   "language": "python",
   "name": "python3"
  },
  "language_info": {
   "codemirror_mode": {
    "name": "ipython",
    "version": 3
   },
   "file_extension": ".py",
   "mimetype": "text/x-python",
   "name": "python",
   "nbconvert_exporter": "python",
   "pygments_lexer": "ipython3",
   "version": "3.6.10"
  }
 },
 "nbformat": 4,
 "nbformat_minor": 4
}
