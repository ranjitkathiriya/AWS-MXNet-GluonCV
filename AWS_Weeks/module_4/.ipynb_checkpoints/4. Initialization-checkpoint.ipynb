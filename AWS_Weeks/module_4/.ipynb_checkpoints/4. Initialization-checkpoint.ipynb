{
 "cells": [
  {
   "cell_type": "code",
   "execution_count": 1,
   "metadata": {},
   "outputs": [],
   "source": [
    "import mxnet as mx\n",
    "from mxnet import init,nd\n",
    "from mxnet.gluon import nn"
   ]
  },
  {
   "cell_type": "markdown",
   "metadata": {},
   "source": [
    "# Different type of initialization"
   ]
  },
  {
   "cell_type": "code",
   "execution_count": 3,
   "metadata": {},
   "outputs": [
    {
     "data": {
      "text/plain": [
       "mxnet.initializer.Constant"
      ]
     },
     "execution_count": 3,
     "metadata": {},
     "output_type": "execute_result"
    }
   ],
   "source": [
    "init.Uniform\n",
    "init.Normal\n",
    "init.Xavier\n",
    "init.Zero\n",
    "init.One\n",
    "init.Constant"
   ]
  },
  {
   "cell_type": "code",
   "execution_count": 5,
   "metadata": {},
   "outputs": [
    {
     "data": {
      "text/plain": [
       "\n",
       "[[[[ 0.05636501  0.10720772  0.24847925]\n",
       "   [ 0.39752382  0.11866093  0.41332   ]\n",
       "   [ 0.05182666  0.4009717  -0.08815584]]]]\n",
       "<NDArray 1x1x3x3 @cpu(0)>"
      ]
     },
     "execution_count": 5,
     "metadata": {},
     "output_type": "execute_result"
    }
   ],
   "source": [
    "layer = nn.Conv2D(channels=1,in_channels=1,kernel_size=(3,3))\n",
    "layer.initialize(init.Xavier())\n",
    "layer.weight.data()"
   ]
  },
  {
   "cell_type": "markdown",
   "metadata": {},
   "source": [
    "# Xavier Initialization large number output"
   ]
  },
  {
   "cell_type": "code",
   "execution_count": 6,
   "metadata": {},
   "outputs": [
    {
     "data": {
      "text/plain": [
       "\n",
       "[[[ 0.00630558  0.00744513 -0.00590012]\n",
       "  [-0.00318499 -0.01033202  0.01999258]\n",
       "  [-0.0226214   0.02366119 -0.01160159]]\n",
       "\n",
       " [[-0.0059481  -0.00113977  0.01488703]\n",
       "  [ 0.01593029  0.00147454 -0.00102179]\n",
       "  [ 0.00347238 -0.0054713   0.02171864]]\n",
       "\n",
       " [[ 0.01715045 -0.02189048 -0.00829784]\n",
       "  [-0.02106922  0.00756137 -0.02448375]\n",
       "  [-0.00672377  0.01697394  0.0233291 ]]\n",
       "\n",
       " ...\n",
       "\n",
       " [[-0.01893761  0.01284147 -0.00975751]\n",
       "  [-0.02142992 -0.00148998 -0.00093406]\n",
       "  [ 0.00985651 -0.00277236  0.00710726]]\n",
       "\n",
       " [[ 0.00880146 -0.01043105 -0.00261599]\n",
       "  [-0.00773894  0.01042632 -0.01882804]\n",
       "  [ 0.00926955  0.00075613  0.01006069]]\n",
       "\n",
       " [[ 0.00549796  0.00605232 -0.0150173 ]\n",
       "  [-0.01781082  0.02513626  0.01330902]\n",
       "  [-0.01826004  0.01434206  0.0111638 ]]]\n",
       "<NDArray 512x3x3 @cpu(0)>"
      ]
     },
     "execution_count": 6,
     "metadata": {},
     "output_type": "execute_result"
    }
   ],
   "source": [
    "layer = nn.Conv2D(channels=512,in_channels=512,kernel_size=(3,3))\n",
    "layer.initialize(init.Xavier())\n",
    "layer.weight.data()[0]"
   ]
  },
  {
   "cell_type": "markdown",
   "metadata": {},
   "source": [
    "# Deferred Initialization"
   ]
  },
  {
   "cell_type": "code",
   "execution_count": 7,
   "metadata": {},
   "outputs": [
    {
     "data": {
      "text/plain": [
       "Parameter conv3_weight (shape=(1, 0, 3, 3), dtype=<class 'numpy.float32'>)"
      ]
     },
     "execution_count": 7,
     "metadata": {},
     "output_type": "execute_result"
    }
   ],
   "source": [
    "layer = nn.Conv2D(channels=1,kernel_size=(3,3))\n",
    "layer.weight"
   ]
  },
  {
   "cell_type": "code",
   "execution_count": 8,
   "metadata": {},
   "outputs": [
    {
     "data": {
      "text/plain": [
       "Parameter conv3_weight (shape=(1, 8, 3, 3), dtype=<class 'numpy.float32'>)"
      ]
     },
     "execution_count": 8,
     "metadata": {},
     "output_type": "execute_result"
    }
   ],
   "source": [
    "layer.initialize(init.Xavier())\n",
    "layer(mx.nd.ones((1,8,224,224)))\n",
    "layer.weight"
   ]
  },
  {
   "cell_type": "markdown",
   "metadata": {},
   "source": [
    "# Initialize Contex"
   ]
  },
  {
   "cell_type": "code",
   "execution_count": 10,
   "metadata": {},
   "outputs": [],
   "source": [
    "layer = nn.Conv2D(channels=1,kernel_size=(3,3))\n",
    "layer.initialize(init.Xavier(),ctx=mx.cpu())"
   ]
  },
  {
   "cell_type": "code",
   "execution_count": 11,
   "metadata": {},
   "outputs": [
    {
     "data": {
      "text/plain": [
       "\n",
       "[[[[-0.40201202 -0.7018695   0.0178528   0.58707917  0.27301195\n",
       "    -0.28182262 -0.04585001]\n",
       "   [-0.2916031  -0.5289639  -0.29903352  0.07407001  0.08028618\n",
       "     0.3445815  -0.1369451 ]\n",
       "   [-0.5982169  -0.02556938  0.23767224 -0.13543423 -0.54306304\n",
       "    -0.27945024 -0.20130059]\n",
       "   [-0.3011055  -0.6542944  -0.6064335  -0.15215331  0.6870324\n",
       "     0.33310294  0.12388389]\n",
       "   [-0.5037831   0.3842859   0.40459839  0.13650626 -0.4143914\n",
       "    -0.16389099 -0.5943488 ]\n",
       "   [-0.30062518 -0.06190275  0.03046748 -1.0344568  -0.04781766\n",
       "     0.00905293 -0.41354978]\n",
       "   [-0.48301688 -0.08969666  0.1881354   0.5933385   0.35146433\n",
       "     0.19643752 -0.6188929 ]]]]\n",
       "<NDArray 1x1x7x7 @cpu(0)>"
      ]
     },
     "execution_count": 11,
     "metadata": {},
     "output_type": "execute_result"
    }
   ],
   "source": [
    "layer(nd.uniform(shape=(1,3,9,9),ctx=mx.cpu()))"
   ]
  },
  {
   "cell_type": "markdown",
   "metadata": {},
   "source": [
    "# Set data"
   ]
  },
  {
   "cell_type": "code",
   "execution_count": 13,
   "metadata": {},
   "outputs": [
    {
     "data": {
      "text/plain": [
       "\n",
       "[[[[1. 1. 1.]\n",
       "   [1. 1. 1.]\n",
       "   [1. 1. 1.]]\n",
       "\n",
       "  [[1. 1. 1.]\n",
       "   [1. 1. 1.]\n",
       "   [1. 1. 1.]]\n",
       "\n",
       "  [[1. 1. 1.]\n",
       "   [1. 1. 1.]\n",
       "   [1. 1. 1.]]]]\n",
       "<NDArray 1x3x3x3 @cpu(0)>"
      ]
     },
     "execution_count": 13,
     "metadata": {},
     "output_type": "execute_result"
    }
   ],
   "source": [
    "layer.weight.set_data(nd.ones((1,3,3,3),ctx=mx.cpu()))\n",
    "layer.weight.data()"
   ]
  },
  {
   "cell_type": "markdown",
   "metadata": {},
   "source": [
    "# Exit"
   ]
  }
 ],
 "metadata": {
  "kernelspec": {
   "display_name": "Python 3",
   "language": "python",
   "name": "python3"
  },
  "language_info": {
   "codemirror_mode": {
    "name": "ipython",
    "version": 3
   },
   "file_extension": ".py",
   "mimetype": "text/x-python",
   "name": "python",
   "nbconvert_exporter": "python",
   "pygments_lexer": "ipython3",
   "version": "3.6.10"
  }
 },
 "nbformat": 4,
 "nbformat_minor": 4
}
