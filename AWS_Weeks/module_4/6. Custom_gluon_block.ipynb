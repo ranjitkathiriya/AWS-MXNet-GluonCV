{
 "cells": [
  {
   "cell_type": "code",
   "execution_count": 1,
   "metadata": {},
   "outputs": [],
   "source": [
    "import mxnet as mx\n",
    "\n",
    "from mxnet import nd\n",
    "from mxnet.gluon import nn"
   ]
  },
  {
   "cell_type": "code",
   "execution_count": 2,
   "metadata": {},
   "outputs": [],
   "source": [
    "class MLP(nn.Block):\n",
    "    \n",
    "    def __init__(self, hidden_units=256, **kwargs):\n",
    "        \n",
    "        super(MLP,self).__init__(**kwargs)\n",
    "        self.hidden = nn.Dense(hidden_units,activation='relu')\n",
    "        self.output = nn.Dense(10)\n",
    "    \n",
    "    def forward(self,x):\n",
    "        y = self.hidden(x)\n",
    "        return self.output(y)"
   ]
  },
  {
   "cell_type": "code",
   "execution_count": 3,
   "metadata": {},
   "outputs": [
    {
     "data": {
      "text/plain": [
       "\n",
       "[[ 0.08138503  0.03904303 -0.00392807  0.02940813  0.06713198  0.21919417\n",
       "  -0.03509752  0.22010326  0.03273889 -0.09916696]]\n",
       "<NDArray 1x10 @cpu(0)>"
      ]
     },
     "execution_count": 3,
     "metadata": {},
     "output_type": "execute_result"
    }
   ],
   "source": [
    "net = MLP(hidden_units=512)\n",
    "net.initialize()\n",
    "net(nd.random.uniform(shape=(1,64)))"
   ]
  },
  {
   "cell_type": "code",
   "execution_count": 4,
   "metadata": {},
   "outputs": [],
   "source": [
    "class SiameseNetwork(nn.Block):\n",
    "    \n",
    "    def __init__(self,hidden_units=256,**kwargs):\n",
    "        super(SiameseNetwork,self).__init__(**kwargs)\n",
    "        self.mlp = nn.Sequential()\n",
    "        with self.mlp.name_scope():\n",
    "            self.mlp.add(\n",
    "            nn.Dense(128,activation='relu'),\n",
    "            nn.Dense(128,activation='relu'),\n",
    "            nn.Dense(128,activation='relu'))\n",
    "            \n",
    "    def forward(self,x1,x2):\n",
    "        y1 = self.mlp(x1)\n",
    "        y2 = self.mlp(x2)\n",
    "        y1 = y1.expand_dims(axis=1) # We add dummy dimesions to have\n",
    "        y2 = y2.expand_dims(axis=2) # Y1: (N,1,C) Y2: (N,C,1)\n",
    "        return nd.batch_dot(y1,y2) "
   ]
  },
  {
   "cell_type": "code",
   "execution_count": 5,
   "metadata": {},
   "outputs": [],
   "source": [
    "net = SiameseNetwork()\n",
    "net.initialize()"
   ]
  },
  {
   "cell_type": "code",
   "execution_count": 6,
   "metadata": {},
   "outputs": [
    {
     "data": {
      "text/plain": [
       "\n",
       "[[[0.01496948]]]\n",
       "<NDArray 1x1x1 @cpu(0)>"
      ]
     },
     "execution_count": 6,
     "metadata": {},
     "output_type": "execute_result"
    }
   ],
   "source": [
    "x1 = nd.random.uniform(shape=(1,64))\n",
    "x2 = nd.random.uniform(shape=(1,64))\n",
    "net(x1,x2)"
   ]
  },
  {
   "cell_type": "markdown",
   "metadata": {},
   "source": [
    "# Exit"
   ]
  }
 ],
 "metadata": {
  "kernelspec": {
   "display_name": "Python 3",
   "language": "python",
   "name": "python3"
  },
  "language_info": {
   "codemirror_mode": {
    "name": "ipython",
    "version": 3
   },
   "file_extension": ".py",
   "mimetype": "text/x-python",
   "name": "python",
   "nbconvert_exporter": "python",
   "pygments_lexer": "ipython3",
   "version": "3.6.10"
  }
 },
 "nbformat": 4,
 "nbformat_minor": 4
}
