{
 "cells": [
  {
   "cell_type": "markdown",
   "metadata": {
    "deletable": false,
    "editable": false,
    "nbgrader": {
     "cell_type": "markdown",
     "checksum": "884da5cbf8fa01f6af6b032719c8c556",
     "grade": false,
     "grade_id": "cell-f1377cea4044b4eb",
     "locked": true,
     "schema_version": 3,
     "solution": false,
     "task": false
    }
   },
   "source": [
    "# Module 6 Assignment\n",
    "\n",
    "In this final assignment of the course, you'll use deep learning to count people in a dataset of images.\n",
    "\n",
    "You'll use skills learned throughout the course to select, use and interpret the outputs of a pre-trained model that's suited to the task."
   ]
  },
  {
   "cell_type": "markdown",
   "metadata": {
    "deletable": false,
    "editable": false,
    "nbgrader": {
     "cell_type": "markdown",
     "checksum": "b0bded5cd583863fbe539bb5b780a6d6",
     "grade": false,
     "grade_id": "cell-56f188872558719f",
     "locked": true,
     "schema_version": 3,
     "solution": false,
     "task": false
    }
   },
   "source": [
    "### 0) Setup"
   ]
  },
  {
   "cell_type": "code",
   "execution_count": null,
   "metadata": {
    "deletable": false,
    "editable": false,
    "nbgrader": {
     "cell_type": "code",
     "checksum": "a37823a7a2e2d2acfb235dfc728d0574",
     "grade": false,
     "grade_id": "cell-54b537eb4d225e9d",
     "locked": true,
     "schema_version": 3,
     "solution": false,
     "task": false
    }
   },
   "outputs": [],
   "source": [
    "import mxnet as mx\n",
    "from mxnet import image\n",
    "from mxnet.gluon.data.vision import transforms\n",
    "import gluoncv as gcv\n",
    "import hashlib\n",
    "from pylab import rcParams\n",
    "from matplotlib import pyplot as plt\n",
    "from gluoncv import model_zoo, data, utils\n",
    "import numpy as np\n",
    "import os\n",
    "from pathlib import Path\n",
    "\n",
    "rcParams['figure.figsize'] = 5, 10"
   ]
  },
  {
   "cell_type": "code",
   "execution_count": null,
   "metadata": {
    "deletable": false,
    "editable": false,
    "nbgrader": {
     "cell_type": "code",
     "checksum": "e2ebd7f856319277f07a21232a6a721a",
     "grade": false,
     "grade_id": "cell-f6e6621cb52b82aa",
     "locked": true,
     "schema_version": 3,
     "solution": false,
     "task": false
    }
   },
   "outputs": [],
   "source": [
    "M6_DATA = Path(os.getenv('DATA_DIR', '../../data'), 'module_6')\n",
    "M6_IMAGES = Path(M6_DATA, 'images')\n",
    "M6_MODELS = Path(M6_DATA, 'models')"
   ]
  },
  {
   "cell_type": "markdown",
   "metadata": {
    "deletable": false,
    "editable": false,
    "nbgrader": {
     "cell_type": "markdown",
     "checksum": "a3dadedeaca075bb7d4456fd0edccc54",
     "grade": false,
     "grade_id": "cell-d0b0dbb6db6c1bb0",
     "locked": true,
     "schema_version": 3,
     "solution": false,
     "task": false
    }
   },
   "source": [
    "### 1) Selecting an appropriate model\n",
    "\n",
    "GluonCV has a wide range pre-trained models so selecting the correct model for the task at hand can be tricky. As you can see below there are close to 200 different pre-trained model variants. You first task will be to select a good model given a few constraints."
   ]
  },
  {
   "cell_type": "code",
   "execution_count": null,
   "metadata": {
    "deletable": false,
    "editable": false,
    "nbgrader": {
     "cell_type": "code",
     "checksum": "e41fb67e1af085f52ae4eeb368512120",
     "grade": false,
     "grade_id": "cell-133afe643d646b5f",
     "locked": true,
     "schema_version": 3,
     "solution": false,
     "task": false
    }
   },
   "outputs": [],
   "source": [
    "for model in gcv.model_zoo.get_model_list():\n",
    "    print(model)"
   ]
  },
  {
   "cell_type": "markdown",
   "metadata": {
    "deletable": false,
    "editable": false,
    "nbgrader": {
     "cell_type": "markdown",
     "checksum": "ad80fabdd3c37135463f0c9714f38bfa",
     "grade": false,
     "grade_id": "cell-428e04b1a65d67e8",
     "locked": true,
     "schema_version": 3,
     "solution": false,
     "task": false
    }
   },
   "source": [
    "Our objective is to count people so certain types of model are better suited for this task than others. We also want a resource efficient model so let's say that the selected model must consume <1GB of memory. And lastly our model must be fast and be able to process >100 images per second on the [GluonCV website](https://gluon-cv.mxnet.io/model_zoo) benchmarks. Given these criteria, you first task is to select the most appropriate model for the task from the following list."
   ]
  },
  {
   "cell_type": "code",
   "execution_count": null,
   "metadata": {
    "deletable": false,
    "nbgrader": {
     "cell_type": "code",
     "checksum": "034eb6e8d0df714700838857a9831922",
     "grade": false,
     "grade_id": "cell-229a2f9787e1997a",
     "locked": false,
     "schema_version": 3,
     "solution": true,
     "task": false
    }
   },
   "outputs": [],
   "source": [
    "model_options = ['senet_154',\n",
    "                 'mobilenetv3_large',\n",
    "                 'faster_rcnn_fpn_resnet101_v1d_coco',\n",
    "                 'yolo3_darknet53_coco',\n",
    "                 'fcn_resnet101_coco',\n",
    "                 'deeplab_resnet101_coco']\n",
    "\n",
    "# set the variable `selected_model`\n",
    "# YOUR CODE HERE\n",
    "raise NotImplementedError()"
   ]
  },
  {
   "cell_type": "code",
   "execution_count": null,
   "metadata": {
    "deletable": false,
    "editable": false,
    "nbgrader": {
     "cell_type": "code",
     "checksum": "7fcd1d71645d7e23f43b2dd60650b504",
     "grade": true,
     "grade_id": "cell-3cbb1a6bb7984327",
     "locked": true,
     "points": 1,
     "schema_version": 3,
     "solution": false,
     "task": false
    }
   },
   "outputs": [],
   "source": [
    "assert selected_model in set(model_options), 'You must choose from model_options'\n",
    "assert hashlib.sha1(selected_model.encode('utf-8')).hexdigest()[:8] in ['9c7846f3', '1e6e3a3d'], 'You should select an object detection model for this task.'\n",
    "assert hashlib.sha1(selected_model.encode('utf-8')).hexdigest()[:8] == '1e6e3a3d', 'You should choose a faster object detection model.'"
   ]
  },
  {
   "cell_type": "code",
   "execution_count": null,
   "metadata": {
    "deletable": false,
    "editable": false,
    "nbgrader": {
     "cell_type": "code",
     "checksum": "17742d0e7c7ac3d1f02edfd8ecb85a47",
     "grade": false,
     "grade_id": "cell-8588c3f83e674339",
     "locked": true,
     "schema_version": 3,
     "solution": false,
     "task": false
    }
   },
   "outputs": [],
   "source": [
    "network = gcv.model_zoo.get_model(selected_model, pretrained=True, root=M6_MODELS)"
   ]
  },
  {
   "cell_type": "markdown",
   "metadata": {
    "deletable": false,
    "editable": false,
    "nbgrader": {
     "cell_type": "markdown",
     "checksum": "373b46102196ad6cf3e94dede2c241d2",
     "grade": false,
     "grade_id": "cell-69872ac44a65c9f7",
     "locked": true,
     "schema_version": 3,
     "solution": false,
     "task": false
    }
   },
   "source": [
    "### 2) Load Image"
   ]
  },
  {
   "cell_type": "markdown",
   "metadata": {
    "deletable": false,
    "editable": false,
    "nbgrader": {
     "cell_type": "markdown",
     "checksum": "30e351c0ab861cde79dc9a127d8975f5",
     "grade": false,
     "grade_id": "cell-a7c6480fe77772e2",
     "locked": true,
     "schema_version": 3,
     "solution": false,
     "task": false
    }
   },
   "source": [
    "Your first task is to implement a function that loads an image from disk given a filepath.\n",
    "\n",
    "It should return an 8-bit image array, that's in MXNet's NDArray format and in HWC layout (i.e. height, width then channel).\n",
    "\n",
    "**Hint**: you can reference your solution from Assignment 3."
   ]
  },
  {
   "cell_type": "code",
   "execution_count": null,
   "metadata": {
    "deletable": false,
    "nbgrader": {
     "cell_type": "code",
     "checksum": "ffa2396ac41d53a7993eb2160c140227",
     "grade": false,
     "grade_id": "cell-83167768c692fbae",
     "locked": false,
     "schema_version": 3,
     "solution": true,
     "task": false
    }
   },
   "outputs": [],
   "source": [
    "def load_image(filepath):\n",
    "    \"\"\"\n",
    "    Should load image from disk.\n",
    "    \n",
    "    :param filepath: relative or absolute filepath to RGB image file in JPG format.\n",
    "    :type filepath: str\n",
    "    \n",
    "    :return: an array with pixel intensities (in HWC layout).\n",
    "    :rtype: mx.nd.NDArray\n",
    "    \"\"\"\n",
    "    # YOUR CODE HERE\n",
    "    raise NotImplementedError()"
   ]
  },
  {
   "cell_type": "code",
   "execution_count": null,
   "metadata": {
    "deletable": false,
    "editable": false,
    "nbgrader": {
     "cell_type": "code",
     "checksum": "bde62f278454d6bf841d483c4d34dc0d",
     "grade": true,
     "grade_id": "cell-ff2d102d4963834d",
     "locked": true,
     "points": 1,
     "schema_version": 3,
     "solution": false,
     "task": false
    }
   },
   "outputs": [],
   "source": [
    "test_filepath = Path(M6_IMAGES, '32742378405_3ecc8cc958_b.jpg')\n",
    "test_output = load_image(test_filepath)\n",
    "assert test_output.shape[2] == 3  # RGB\n",
    "assert test_output.dtype == np.uint8  # 0 - 255\n",
    "assert isinstance(test_output, mx.nd.NDArray)  # MXNet NDArray, not NumPy Array."
   ]
  },
  {
   "cell_type": "code",
   "execution_count": null,
   "metadata": {
    "deletable": false,
    "editable": false,
    "nbgrader": {
     "cell_type": "code",
     "checksum": "0300e481e823613855401e99e6ab6e42",
     "grade": false,
     "grade_id": "cell-9034c24282f67a50",
     "locked": true,
     "schema_version": 3,
     "solution": false,
     "task": false
    }
   },
   "outputs": [],
   "source": [
    "plt.imshow(test_output.asnumpy())\n",
    "fig = plt.gcf()\n",
    "fig.set_size_inches(14, 14)\n",
    "plt.show()"
   ]
  },
  {
   "cell_type": "markdown",
   "metadata": {
    "deletable": false,
    "editable": false,
    "nbgrader": {
     "cell_type": "markdown",
     "checksum": "d0157940ba8a4dd90a41f656807034c6",
     "grade": false,
     "grade_id": "cell-b58c6a5b661768df",
     "locked": true,
     "schema_version": 3,
     "solution": false,
     "task": false
    }
   },
   "source": [
    "### 3) Transform Image\n",
    "\n",
    "Up next, you should transform the image so it can be used as input to the pre-trained network.\n",
    "\n",
    "Make sure you return an un-normalized version of the image that can be used for visualizations.\n",
    "\n",
    "See the docstring for more details, but don't forget that GluonCV contains a number of utilities and helper functions to make your life easier! Check out the presets transforms."
   ]
  },
  {
   "cell_type": "code",
   "execution_count": null,
   "metadata": {
    "deletable": false,
    "nbgrader": {
     "cell_type": "code",
     "checksum": "db4d360e23371dac72c4e105aff655db",
     "grade": false,
     "grade_id": "cell-4896e57f0ee59f60",
     "locked": false,
     "schema_version": 3,
     "solution": true,
     "task": false
    }
   },
   "outputs": [],
   "source": [
    "def transform_image(array):\n",
    "    \"\"\"\n",
    "    Should transform image by:\n",
    "    \n",
    "    1) Resizing the shortest dimension to 416. e.g (832, 3328) -> (416, 1664).\n",
    "    2) Cropping to a center square of dimension (416, 416).\n",
    "    3) Converting the image from HWC layout to CHW layout.\n",
    "    4) Normalizing the image using COCO statistics (i.e. per colour channel mean and variance).\n",
    "    5) Creating a batch of 1 image.\n",
    "    \n",
    "    :param filepath: array (in HWC layout).\n",
    "    :type filepath: mx.nd.NDArray\n",
    "    \n",
    "    :return: a batch of a single transformed images (in NCHW layout) and a un-normalized image.\n",
    "    :rtype: tuple of (mx.nd.NDArray, numpy.ndarray)\n",
    "    \"\"\"\n",
    "    # YOUR CODE HERE\n",
    "    raise NotImplementedError()"
   ]
  },
  {
   "cell_type": "code",
   "execution_count": null,
   "metadata": {
    "deletable": false,
    "editable": false,
    "nbgrader": {
     "cell_type": "code",
     "checksum": "a6ec835bf04f501716352f1cbd538e9a",
     "grade": true,
     "grade_id": "cell-269265a4f9b38669",
     "locked": true,
     "points": 1,
     "schema_version": 3,
     "solution": false,
     "task": false
    }
   },
   "outputs": [],
   "source": [
    "norm_image, unnorm_image = transform_image(test_output)\n",
    "assert norm_image.shape == (1, 3, 416, 625)\n",
    "assert norm_image.dtype == np.float32\n",
    "assert unnorm_image.shape == (416, 625, 3)\n",
    "assert unnorm_image.dtype == np.uint8"
   ]
  },
  {
   "cell_type": "code",
   "execution_count": null,
   "metadata": {
    "deletable": false,
    "editable": false,
    "nbgrader": {
     "cell_type": "code",
     "checksum": "d8642e83763e52e901227616009b84ec",
     "grade": false,
     "grade_id": "cell-1cd37d67be92f30f",
     "locked": true,
     "schema_version": 3,
     "solution": false,
     "task": false
    }
   },
   "outputs": [],
   "source": [
    "plt.imshow(unnorm_image)\n",
    "fig = plt.gcf()\n",
    "fig.set_size_inches(14, 14)\n",
    "plt.show()"
   ]
  },
  {
   "cell_type": "markdown",
   "metadata": {
    "deletable": false,
    "editable": false,
    "nbgrader": {
     "cell_type": "markdown",
     "checksum": "9e3230c77adee0d3a8c881c38eba1c6b",
     "grade": false,
     "grade_id": "cell-26bbcccad0825f89",
     "locked": true,
     "schema_version": 3,
     "solution": false,
     "task": false
    }
   },
   "source": [
    "### 4) Using a model\n",
    "\n",
    "Your next task is to pass a transformed image through the network to obtain bounding box and class predictions from the network.\n",
    "\n",
    "We'll ignore the requirement of creating just a people detector for now.\n",
    "\n",
    "**Hint**: Don't forget that you're typically working with a batch of images, even when you only have one image."
   ]
  },
  {
   "cell_type": "code",
   "execution_count": null,
   "metadata": {
    "deletable": false,
    "nbgrader": {
     "cell_type": "code",
     "checksum": "63b711cb6ca82af7aac9ff0ad31707b1",
     "grade": false,
     "grade_id": "cell-e39e88b8d81ce8f1",
     "locked": false,
     "schema_version": 3,
     "solution": true,
     "task": false
    }
   },
   "outputs": [],
   "source": [
    "def detect(network, data):\n",
    "    \"\"\"\n",
    "    Should return the bounding boxes and class predictions from a given network and image.\n",
    "    \n",
    "    :param network: pre-trained object detection model\n",
    "    :type network: mx.gluon.Block\n",
    "    :param data: batch of transformed images of shape (1, 3, 416, 416)\n",
    "    :type data: mx.nd.NDArray\n",
    "    \n",
    "    :return: tuple of class_ids, scores, bounding_boxes\n",
    "    :rtype: tuple of mx.nd.NDArrays\n",
    "    \"\"\"\n",
    "    # YOUR CODE HERE\n",
    "    raise NotImplementedError()\n",
    "    return class_ids, scores, bounding_boxes"
   ]
  },
  {
   "cell_type": "code",
   "execution_count": null,
   "metadata": {
    "deletable": false,
    "editable": false,
    "nbgrader": {
     "cell_type": "code",
     "checksum": "711032eaf988ab8b01aac9b74050fd3b",
     "grade": true,
     "grade_id": "cell-401b80170ff6c0a8",
     "locked": true,
     "points": 1,
     "schema_version": 3,
     "solution": false,
     "task": false
    }
   },
   "outputs": [],
   "source": [
    "class_ids, scores, bounding_boxes = detect(network, norm_image)\n",
    "assert class_ids.shape == (1, 100, 1)\n",
    "assert scores.shape == (1, 100, 1)\n",
    "assert bounding_boxes.shape == (1, 100, 4)"
   ]
  },
  {
   "cell_type": "code",
   "execution_count": null,
   "metadata": {
    "deletable": false,
    "editable": false,
    "nbgrader": {
     "cell_type": "code",
     "checksum": "595047e9a392544491b14c474ee530fe",
     "grade": false,
     "grade_id": "cell-af99f498287f561a",
     "locked": true,
     "schema_version": 3,
     "solution": false,
     "task": false
    }
   },
   "outputs": [],
   "source": [
    "ax = utils.viz.plot_bbox(unnorm_image, bounding_boxes[0], scores[0], class_ids[0], class_names=network.classes)\n",
    "fig = plt.gcf()\n",
    "fig.set_size_inches(14, 14)\n",
    "plt.show()"
   ]
  },
  {
   "cell_type": "markdown",
   "metadata": {
    "deletable": false,
    "editable": false,
    "nbgrader": {
     "cell_type": "markdown",
     "checksum": "120f97a81a40d7910c4129d43d1cb74b",
     "grade": false,
     "grade_id": "cell-6ab9c54cd0fcf507",
     "locked": true,
     "schema_version": 3,
     "solution": false,
     "task": false
    }
   },
   "source": [
    "We can see that the bounding boxes are placed around all the people in the image, including the goal keeper in the distance too.\n",
    "\n",
    "Also spot that each detected object has a corresponding class label and a confidence score."
   ]
  },
  {
   "cell_type": "markdown",
   "metadata": {
    "deletable": false,
    "editable": false,
    "nbgrader": {
     "cell_type": "markdown",
     "checksum": "5524c5e1daa0503ad0fd6e06caac1f3f",
     "grade": false,
     "grade_id": "cell-08943be10ec38457",
     "locked": true,
     "schema_version": 3,
     "solution": false,
     "task": false
    }
   },
   "source": [
    "### 5) Counting Objects"
   ]
  },
  {
   "cell_type": "markdown",
   "metadata": {
    "deletable": false,
    "editable": false,
    "nbgrader": {
     "cell_type": "markdown",
     "checksum": "66926f4df1f347beecf91779ae89f674",
     "grade": false,
     "grade_id": "cell-78f2bd6145e956df",
     "locked": true,
     "schema_version": 3,
     "solution": false,
     "task": false
    }
   },
   "source": [
    "In this section you should use the network outputs to determine the number of people in the image.\n",
    "\n",
    "You'll notice that the `count_object` function has a `threshold` parameter that can control the required confidence level. When the confidence exceeds this amount for a detected person, you should add one to the total person count.\n",
    "\n",
    "**Hint**: it's possible to use MXNet NDArray functions to do this calculations without loops.\n",
    "\n",
    "**Hint**: All 3 network outputs are avaliable in the function (i.e. `class_ids`, `scores`, `bounding_boxes`) but only two of them are required for this task.\n",
    "\n",
    "**Hint**: Object labels can be found on the network for pre-trained object detection models.\n",
    "\n",
    "**Hint**: Your function should return a Python float so conversion from MXNet NDArray to Python float is required."
   ]
  },
  {
   "cell_type": "code",
   "execution_count": null,
   "metadata": {
    "deletable": false,
    "nbgrader": {
     "cell_type": "code",
     "checksum": "1b3e9b1d1f978bf4119ea135968d0c14",
     "grade": false,
     "grade_id": "cell-6b64ff3a4a2adaa2",
     "locked": false,
     "schema_version": 3,
     "solution": true,
     "task": false
    }
   },
   "outputs": [],
   "source": [
    "def count_object(network, class_ids, scores, bounding_boxes, object_label, threshold=0.75):\n",
    "    \"\"\"\n",
    "    Counts objects of a given type that are predicted by the network.\n",
    "\n",
    "    :param network: object detection network\n",
    "    :type network: mx.gluon.nn.Block\n",
    "    :param class_ids: predicted object class indexes (e.g. 123)\n",
    "    :type class_ids: mx.nd.NDArrays\n",
    "    :param scores: predicted object confidence\n",
    "    :type scores: mx.nd.NDArrays\n",
    "    :param bounding_boxes: predicted object locations\n",
    "    :type bounding_boxes: mx.nd.NDArrays\n",
    "    :param object_label: object to be counted (e.g. \"person\")\n",
    "    :type object_label: str\n",
    "    :param threshold: required confidence for object to be counted\n",
    "    :type threshold: float\n",
    "    \n",
    "    :return: number of objects that are predicted by the network.\n",
    "    :rtype: int\n",
    "    \"\"\"\n",
    "    # YOUR CODE HERE\n",
    "    raise NotImplementedError()\n",
    "    return num_people"
   ]
  },
  {
   "cell_type": "code",
   "execution_count": null,
   "metadata": {
    "deletable": false,
    "editable": false,
    "nbgrader": {
     "cell_type": "code",
     "checksum": "6668ab9552481720819efb0c4ab7da07",
     "grade": false,
     "grade_id": "cell-8b658f988627e5ac",
     "locked": true,
     "schema_version": 3,
     "solution": false,
     "task": false
    }
   },
   "outputs": [],
   "source": [
    "for object_label in [\"person\", \"sports ball\"]:\n",
    "    count = count_object(network, class_ids, scores, bounding_boxes, object_label)\n",
    "    print(\"{} objects of class '{}' detected\".format(count, object_label))"
   ]
  },
  {
   "cell_type": "code",
   "execution_count": null,
   "metadata": {
    "deletable": false,
    "editable": false,
    "nbgrader": {
     "cell_type": "code",
     "checksum": "1c13fea49d29667dd5c4047c2cef6091",
     "grade": true,
     "grade_id": "cell-1be01927735164df",
     "locked": true,
     "points": 3,
     "schema_version": 3,
     "solution": false,
     "task": false
    }
   },
   "outputs": [],
   "source": [
    "num_people = count_object(network, class_ids, scores, bounding_boxes, \"person\")\n",
    "assert num_people == 6"
   ]
  },
  {
   "cell_type": "code",
   "execution_count": null,
   "metadata": {
    "deletable": false,
    "editable": false,
    "nbgrader": {
     "cell_type": "code",
     "checksum": "40522e83b37bbb2078bfbf6e14078871",
     "grade": false,
     "grade_id": "cell-68c8bf33c7076584",
     "locked": true,
     "schema_version": 3,
     "solution": false,
     "task": false
    }
   },
   "outputs": [],
   "source": [
    "thresholds = [0, 0.5, 0.75, 0.9, 0.99, 0.999]\n",
    "for threshold in thresholds:\n",
    "    num_people = count_object(network, class_ids, scores, bounding_boxes, \"person\", threshold=threshold)\n",
    "    print(\"{} people detected using a threshold of {}.\".format(num_people, threshold))"
   ]
  },
  {
   "cell_type": "markdown",
   "metadata": {
    "deletable": false,
    "editable": false,
    "nbgrader": {
     "cell_type": "markdown",
     "checksum": "e4cff602b77b1d675f1e541db844130c",
     "grade": false,
     "grade_id": "cell-26f760d49534f1a3",
     "locked": true,
     "schema_version": 3,
     "solution": false,
     "task": false
    }
   },
   "source": [
    "You should experiment with different values for the threshold across more than a single image, but for now we'll use a threshold of 0.5."
   ]
  },
  {
   "cell_type": "markdown",
   "metadata": {
    "deletable": false,
    "editable": false,
    "nbgrader": {
     "cell_type": "markdown",
     "checksum": "fb30fb7925f8c8fe2a7903a86aefc8d9",
     "grade": false,
     "grade_id": "cell-feee68950c01a6a6",
     "locked": true,
     "schema_version": 3,
     "solution": false,
     "task": false
    }
   },
   "source": [
    "### 6) Count People\n",
    "\n",
    "In this section, you should stack all of the previously defined functions together and complete the implementation of the  `count` method to return the total number of people in an image. Use the `_network` and `_threshold` from `__init__`."
   ]
  },
  {
   "cell_type": "code",
   "execution_count": null,
   "metadata": {
    "deletable": false,
    "nbgrader": {
     "cell_type": "code",
     "checksum": "0e086e2825c22d62e102eb6bb92f35d1",
     "grade": false,
     "grade_id": "cell-ace67a67b2280f6e",
     "locked": false,
     "schema_version": 3,
     "solution": true,
     "task": false
    }
   },
   "outputs": [],
   "source": [
    "class PersonCounter():\n",
    "    def __init__(self, threshold):\n",
    "        self._network = gcv.model_zoo.get_model(selected_model, pretrained=True, root=M6_MODELS)\n",
    "        self._threshold = threshold\n",
    "\n",
    "    def set_threshold(self, threshold):\n",
    "        self._threshold = threshold\n",
    "        \n",
    "    def count(self, filepath, visualize=False):\n",
    "        # YOUR CODE HERE\n",
    "        raise NotImplementedError()\n",
    "        if visualize:\n",
    "            self._visualize(unnorm_image, class_ids, scores, bounding_boxes)\n",
    "        # YOUR CODE HERE\n",
    "        raise NotImplementedError()\n",
    "        if num_people == 1:\n",
    "            print('{} person detected in {}.'.format(num_people, filepath)) \n",
    "        else:\n",
    "            print('{} people detected in {}.'.format(num_people, filepath))\n",
    "        return num_people\n",
    "    \n",
    "    def _visualize(self, unnorm_image, class_ids, scores, bounding_boxes):\n",
    "        \"\"\"\n",
    "        Since the transformed_image is in NCHW layout and the values are normalized,\n",
    "        this method slices and transposes to give CHW as required by matplotlib,\n",
    "        and scales (-2, +2) to (0, 255) linearly.\n",
    "        \"\"\"\n",
    "        ax = utils.viz.plot_bbox(unnorm_image,\n",
    "                                 bounding_boxes[0],\n",
    "                                 scores[0],\n",
    "                                 class_ids[0],\n",
    "                                 class_names=self._network.classes)\n",
    "        fig = plt.gcf()\n",
    "        fig.set_size_inches(14, 14)\n",
    "        plt.show()"
   ]
  },
  {
   "cell_type": "code",
   "execution_count": null,
   "metadata": {
    "deletable": false,
    "editable": false,
    "nbgrader": {
     "cell_type": "code",
     "checksum": "5060351b37e356fddcdb675e86cb5cd4",
     "grade": true,
     "grade_id": "cell-d9ae8da9f2a3100d",
     "locked": true,
     "points": 3,
     "schema_version": 3,
     "solution": false,
     "task": false
    }
   },
   "outputs": [],
   "source": [
    "counter = PersonCounter(threshold=0.9)\n",
    "assert counter.count(Path(M6_IMAGES, '31928213423_090ec29bcf_b.jpg')) == 2\n",
    "assert counter.count(Path(M6_IMAGES, '32701657536_8a0d9e157f_b.jpg')) == 3\n",
    "assert counter.count(Path(M6_IMAGES, '25751294956_fa3ee87fb8_b.jpg')) == 4\n",
    "counter.set_threshold(0.5)\n",
    "assert counter.count(Path(M6_IMAGES, '31928213423_090ec29bcf_b.jpg'), visualize=True) == 4\n",
    "assert counter.count(Path(M6_IMAGES, '32701657536_8a0d9e157f_b.jpg'), visualize=True) == 3\n",
    "assert counter.count(Path(M6_IMAGES, '25751294956_fa3ee87fb8_b.jpg'), visualize=True) == 6"
   ]
  },
  {
   "cell_type": "markdown",
   "metadata": {
    "deletable": false,
    "editable": false,
    "nbgrader": {
     "cell_type": "markdown",
     "checksum": "ea58896b058a4a45ccef58fa96c3eeda",
     "grade": false,
     "grade_id": "cell-da55ad4636728cda",
     "locked": true,
     "schema_version": 3,
     "solution": false,
     "task": false
    }
   },
   "source": [
    "Although these results look good, there are still a few failure cases.\n",
    "\n",
    "`18611133536_534285f26d_b.jpg` misses quite a few people and `3354172257_a48ba3d1d8_b.jpg` two people become one.\n",
    "\n",
    "See if you can find more failure cases."
   ]
  },
  {
   "cell_type": "code",
   "execution_count": null,
   "metadata": {},
   "outputs": [],
   "source": [
    "counter.count(Path(M6_IMAGES, '18611133536_534285f26d_b.jpg'), visualize=True)"
   ]
  },
  {
   "cell_type": "markdown",
   "metadata": {
    "deletable": false,
    "editable": false,
    "nbgrader": {
     "cell_type": "markdown",
     "checksum": "18c23ab3726ca29bd41b84425770ef52",
     "grade": false,
     "grade_id": "cell-14028f84fb88f00b",
     "locked": true,
     "schema_version": 3,
     "solution": false,
     "task": false
    }
   },
   "source": [
    "### 7) Count all people in a collection of images"
   ]
  },
  {
   "cell_type": "markdown",
   "metadata": {
    "deletable": false,
    "editable": false,
    "nbgrader": {
     "cell_type": "markdown",
     "checksum": "702650f1ef9f6e1dc335f8bdc27c7cad",
     "grade": false,
     "grade_id": "cell-fc8d91babc816e7c",
     "locked": true,
     "schema_version": 3,
     "solution": false,
     "task": false
    }
   },
   "source": [
    "With our person counter implemented, let's run through the whole dataset and count the number of people in our image directory."
   ]
  },
  {
   "cell_type": "code",
   "execution_count": null,
   "metadata": {
    "deletable": false,
    "editable": false,
    "nbgrader": {
     "cell_type": "code",
     "checksum": "1a6b55264bf9bef187210903976ceb0d",
     "grade": false,
     "grade_id": "cell-bd756e21c02c31cf",
     "locked": true,
     "schema_version": 3,
     "solution": false,
     "task": false
    }
   },
   "outputs": [],
   "source": [
    "total_count = 0\n",
    "for filepath in M6_IMAGES.glob('**/*.jpg'):\n",
    "    total_count += counter.count(filepath)\n",
    "print(\"### Summary: {} people detected.\".format(total_count))"
   ]
  },
  {
   "cell_type": "markdown",
   "metadata": {
    "deletable": false,
    "editable": false,
    "nbgrader": {
     "cell_type": "markdown",
     "checksum": "24385e2bedb18a778653ce22cde0af77",
     "grade": false,
     "grade_id": "cell-19c7633bce379231",
     "locked": true,
     "schema_version": 3,
     "solution": false,
     "task": false
    }
   },
   "source": [
    "## Summary & Congratulations!\n",
    "\n",
    "In this final assignment of the course, you used a pre-trained object detection model to count people in a dataset of images.\n",
    "\n",
    "Although we are not eliminating false positives, the model was able to identify over 70 people in the dataset.\n",
    "\n",
    "You've now completed Computer Vision with GluonCV from AWS. We hope to see you in the next course."
   ]
  },
  {
   "cell_type": "code",
   "execution_count": null,
   "metadata": {},
   "outputs": [],
   "source": []
  }
 ],
 "metadata": {
  "coursera": {
   "assignment_name": "module_6",
   "assignment_version": 2,
   "course_slug": "aws-computer-vision-gluoncv",
   "graded_item_id": "o7l89",
   "launcher_item_id": "5nb5r"
  },
  "kernelspec": {
   "display_name": "Python 3",
   "language": "python",
   "name": "python3"
  },
  "language_info": {
   "codemirror_mode": {
    "name": "ipython",
    "version": 3
   },
   "file_extension": ".py",
   "mimetype": "text/x-python",
   "name": "python",
   "nbconvert_exporter": "python",
   "pygments_lexer": "ipython3",
   "version": "3.6.9"
  }
 },
 "nbformat": 4,
 "nbformat_minor": 2
}
